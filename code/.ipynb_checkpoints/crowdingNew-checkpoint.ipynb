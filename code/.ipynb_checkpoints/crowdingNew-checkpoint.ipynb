{
 "cells": [
  {
   "cell_type": "code",
   "execution_count": 34,
   "metadata": {},
   "outputs": [],
   "source": [
    "# New crowding notebook because I messed up git with my old one :)\n",
    "import numpy as np\n",
    "import matplotlib.pyplot as plt\n",
    "import pandas as pd\n",
    "from OpSim import OpSim\n",
    "# import TRILEGAL\n",
    "# from vespa_update import trilegal"
   ]
  },
  {
   "cell_type": "code",
   "execution_count": 35,
   "metadata": {},
   "outputs": [
    {
     "name": "stdout",
     "output_type": "stream",
     "text": [
      "getting OpSim fields...\n",
      "have summary cursor.\n",
      "have field cursor.\n",
      "returned 5292 fields\n"
     ]
    }
   ],
   "source": [
    "# Getting OpSim field data with new observations from 2018 baseline file\n",
    "OpS = OpSim()\n",
    "OpS.dbFile = '/Users/andrewbowen/baseline2018a.db'\n",
    "OpS.getAllOpSimFields()"
   ]
  },
  {
   "cell_type": "code",
   "execution_count": 36,
   "metadata": {},
   "outputs": [
    {
     "name": "stdout",
     "output_type": "stream",
     "text": [
      "[    0.     0.     0. ... 26260. 27324. 27956.]\n"
     ]
    }
   ],
   "source": [
    "print(np.sort(OpS.Nobs))"
   ]
  },
  {
   "cell_type": "code",
   "execution_count": 51,
   "metadata": {},
   "outputs": [],
   "source": [
    "names_gc = ['Name', 'RA', 'Dec', 'dist[kpc]', 'rh[pc]', 'r_c', 'mass[Msun]', 'Age',\n",
    "       'Z', 'sigma_v[km/s]', 'sigma_source', 'OpSim ID', 'OpSim RA',\n",
    "       'OpSim Dec', 'Source Flag', 'Cluster Type', 'dist flag', 'Age flag',\n",
    "       'Z flag']\n",
    "names_oc = ['Name', 'RA', 'Dec', 'dist[kpc]', 'rh[pc]', 'mass[Msun]', 'Age', 'Z',\n",
    "       'OpSim ID', 'OpSim RA', 'OpSim Dec', 'Source Flag', 'Cluster Type',\n",
    "       'sigma_v[km/s]', 'sigma_source', 'Age flag', 'Z flag', 'dist flag']\n",
    "\n",
    "\n",
    "names_clusters = ['Name', 'RA', 'Dec', 'dist[kpc]', 'rh[pc]', 'r_c', 'mass[Msun]', 'Age',\\\n",
    "       'Z', 'sigma[km/s]', 'sigma_source','OpSim ID', 'OpSim RA', 'OpSim Dec',\\\n",
    "       'Source Flag', 'Cluster Type']\n",
    "\n",
    "#  [Name RA Dec dist[kpc] rh[pc] mass[Msun] Age Z \"OpSim ID\" \"OpSim RA\" \"OpSim Dec\" \"Source Flag\" \"Cluster Type\"]\n",
    "# Reading in datafile - check if columns line up\n",
    "\n",
    "cluster_file_path = '/Users/andrewbowen/ceb_project/data/'\n",
    "GCs = pd.read_csv(cluster_file_path + '/GC_data/gc-data-cleaned.csv', sep = ',', header = 0, names = names_gc)\n",
    "OCs = pd.read_csv(cluster_file_path + '/OC_data/oc-data-cleaned.csv', sep = ',', header = 0, names = names_oc)"
   ]
  },
  {
   "cell_type": "code",
   "execution_count": 55,
   "metadata": {},
   "outputs": [],
   "source": [
    "# Will need to update OpSim field IDs and coords for GCs/OCs\n",
    "opsDict = {'OpSim ID': OpS.fieldID, 'OpSim RA':OpS.RA, 'OpSim Dec': OpS.Dec, 'Nobs': OpS.Nobs}\n",
    "dat_obs = pd.DataFrame(opsDict)#updated opsim dataframe"
   ]
  },
  {
   "cell_type": "code",
   "execution_count": 71,
   "metadata": {},
   "outputs": [],
   "source": [
    "from astropy import units as u\n",
    "from astropy.coordinates import Angle, SkyCoord\n",
    "GC_RA = GCs['RA'] \n",
    "GC_Dec = GCs['Dec']\n",
    "gcRA = Angle(GC_RA, unit = u.hour)\n",
    "gcDec = Angle(GC_Dec, unit = u.degree)\n",
    "gcRA = gcRA.to(u.degree)\n",
    "\n",
    "OC_RA = OCs['RA'] \n",
    "OC_Dec = OCs['Dec']\n",
    "ocRA = Angle(OC_RA, unit = u.hour)\n",
    "ocDec = Angle(OC_Dec, unit = u.degree)\n",
    "ocRA = ocRA.to(u.degree)"
   ]
  },
  {
   "cell_type": "code",
   "execution_count": 73,
   "metadata": {
    "scrolled": true
   },
   "outputs": [],
   "source": [
    "# OC and GC SkyCoords\n",
    "gcCoords = SkyCoord(gcRA, gcDec, unit = (u.degree, u.degree), frame = 'icrs')\n",
    "ocCoords = SkyCoord(ocRA, ocDec, unit = (u.degree, u.degree), frame = 'icrs')"
   ]
  },
  {
   "cell_type": "code",
   "execution_count": 76,
   "metadata": {},
   "outputs": [],
   "source": [
    "# OpSim Coords\n",
    "coords = ocCoords = SkyCoord(dat_obs['OpSim RA'], dat_obs['OpSim Dec'], unit = (u.degree, u.degree), frame = 'icrs')"
   ]
  },
  {
   "cell_type": "code",
   "execution_count": 77,
   "metadata": {},
   "outputs": [
    {
     "data": {
      "text/plain": [
       "<SkyCoord (ICRS): (ra, dec) in deg\n",
       "    [(  0.      , -90.      ), (180.      , -87.568555),\n",
       "     (324.000429, -87.56855 ), ..., (144.000429,  87.56855 ),\n",
       "     (  0.      ,  87.568555), (  0.      ,  90.      )]>"
      ]
     },
     "execution_count": 77,
     "metadata": {},
     "output_type": "execute_result"
    }
   ],
   "source": []
  },
  {
   "cell_type": "code",
   "execution_count": null,
   "metadata": {},
   "outputs": [],
   "source": []
  }
 ],
 "metadata": {
  "kernelspec": {
   "display_name": "Python 3",
   "language": "python",
   "name": "python3"
  },
  "language_info": {
   "codemirror_mode": {
    "name": "ipython",
    "version": 3
   },
   "file_extension": ".py",
   "mimetype": "text/x-python",
   "name": "python",
   "nbconvert_exporter": "python",
   "pygments_lexer": "ipython3",
   "version": "3.6.5"
  }
 },
 "nbformat": 4,
 "nbformat_minor": 2
}
